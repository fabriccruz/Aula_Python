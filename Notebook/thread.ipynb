{
  "nbformat": 4,
  "nbformat_minor": 0,
  "metadata": {
    "colab": {
      "provenance": []
    },
    "kernelspec": {
      "name": "python3",
      "display_name": "Python 3"
    },
    "language_info": {
      "name": "python"
    }
  },
  "cells": [
    {
      "cell_type": "code",
      "execution_count": null,
      "metadata": {
        "id": "LKbdja2hrh3W"
      },
      "outputs": [],
      "source": []
    },
    {
      "cell_type": "markdown",
      "source": [
        "#Criando thread exemplo 1\n"
      ],
      "metadata": {
        "id": "kYgW-buLrjTc"
      }
    },
    {
      "cell_type": "code",
      "source": [
        "import threading\n",
        "import time\n",
        "\n",
        "# exemplo de função sem parametros\n",
        "def funcao():\n",
        "\tfor i in range(3):\n",
        "\t\tprint(i, 'Executando a thread!')\n",
        "\t\ttime.sleep(1)\n",
        "\n",
        "print('Iniciando o programa!')\n",
        "threading.Thread(target=funcao).start()\n",
        "print('Finalizando o programa!')"
      ],
      "metadata": {
        "colab": {
          "base_uri": "https://localhost:8080/"
        },
        "id": "3vwKifuyroqR",
        "outputId": "264d9d1c-274a-4bba-a3c0-b62f1cbc3873"
      },
      "execution_count": 1,
      "outputs": [
        {
          "output_type": "stream",
          "name": "stdout",
          "text": [
            "Iniciando o programa!\n",
            "0Finalizando o programa!\n",
            " Executando a thread!\n"
          ]
        }
      ]
    },
    {
      "cell_type": "code",
      "source": [],
      "metadata": {
        "id": "XBwGr96jrtWv"
      },
      "execution_count": null,
      "outputs": []
    },
    {
      "cell_type": "markdown",
      "source": [
        "#Criando thread exemplo 2"
      ],
      "metadata": {
        "id": "yLTwvmzlsG9y"
      }
    },
    {
      "cell_type": "code",
      "source": [
        "import threading\n",
        "import time\n",
        "\n",
        "# exemplo de funcao com parametros\n",
        "def funcao(mensagem):\n",
        "\tfor i in range(3):\n",
        "\t\tprint(i, mensagem)\n",
        "\t\ttime.sleep(1)\n",
        "print('Iniciando o programa!')\n",
        "x = threading.Thread(target=funcao,args=('Executando',))\n",
        "x.start()\n",
        "print('Finalizando o programa')"
      ],
      "metadata": {
        "colab": {
          "base_uri": "https://localhost:8080/"
        },
        "id": "K4CLKokqsKmS",
        "outputId": "32cc2942-f64e-49c5-a986-90d91fbbf839"
      },
      "execution_count": 3,
      "outputs": [
        {
          "output_type": "stream",
          "name": "stdout",
          "text": [
            "Iniciando o programa!\n",
            "0 Finalizando o programa\n",
            "Executando\n"
          ]
        }
      ]
    },
    {
      "cell_type": "markdown",
      "source": [
        "#Criando thread exemplo 3"
      ],
      "metadata": {
        "id": "QAZaTNX3syJz"
      }
    },
    {
      "cell_type": "code",
      "source": [
        "import threading\n",
        "import time\n",
        "# sincronizando threads\n",
        "ls = []\n",
        "\n",
        "def contador1(n):\n",
        "\tfor i in range(1,n+1):\n",
        "\t\tprint(i)\n",
        "\t\tls.append(i)\n",
        "\t\ttime.sleep(0.4)\n",
        "def contador2(n):\n",
        "\tfor i in range(6,n+1):\n",
        "\t\tprint(i)\n",
        "\t\tls.append(i)\n",
        "\t\ttime.sleep(0.5)\n",
        "\n",
        "\n",
        "x = threading.Thread(target=contador1,args=(5,))\n",
        "x.start()\n",
        "\n",
        "x.join()\n",
        "\n",
        "\n",
        "y = threading.Thread(target=contador2,args=(10,))\n",
        "y.start()\n",
        "\n",
        "y.join()\n",
        "\n",
        "print(ls)"
      ],
      "metadata": {
        "colab": {
          "base_uri": "https://localhost:8080/"
        },
        "id": "c548pVKQsN7k",
        "outputId": "c05beede-a848-442c-a0af-7913c6f977ca"
      },
      "execution_count": 7,
      "outputs": [
        {
          "output_type": "stream",
          "name": "stdout",
          "text": [
            "1\n",
            "2\n",
            "3\n",
            "4\n",
            "5\n",
            "6\n",
            "7\n",
            "8\n",
            "9\n",
            "10\n",
            "[1, 2, 3, 4, 5, 6, 7, 8, 9, 10]\n"
          ]
        }
      ]
    },
    {
      "cell_type": "markdown",
      "source": [
        "#Criando thread exemplo 3"
      ],
      "metadata": {
        "id": "H5-j5l_MuVxr"
      }
    },
    {
      "cell_type": "code",
      "source": [
        "import threading\n",
        "import urllib\n",
        "import time\n",
        "\n",
        "start = time.time()\n",
        "urls = [\"https://www.google.com.br/?hl=pt-BR\", \"https://www.uol.com.br/\", \"https://www.microsoft.com/pt-br\"]\n",
        "\n",
        "\n",
        "def chama_url(url):\n",
        "\treq = urllib.Request(url)\n",
        "\tresponse=urllib.urlopen(req)\n",
        "\tthe_page = response.read()\n",
        "\tprint(\"'%s\\' carregado em %ss\" % (url, (time.time() - start)))\n",
        "\t#print(the_page)\n",
        "\n",
        "threads = [threading.Thread(target=chama_url, args=(url,)) for url in urls]\n",
        "\n",
        "for thread in threads:\n",
        "\tthread.start()\n",
        "for thread in threads:\n",
        "\tthread.join()\n",
        "\n",
        "print(\"Elapsed Time: %s\" % (time.time() - start))"
      ],
      "metadata": {
        "colab": {
          "base_uri": "https://localhost:8080/"
        },
        "id": "rcBhs2Ads4fd",
        "outputId": "7e9aaa33-f91f-4c4b-89f4-5264f48900a8"
      },
      "execution_count": 26,
      "outputs": [
        {
          "output_type": "stream",
          "name": "stderr",
          "text": [
            "Exception in thread Thread-28 (chama_url):\n",
            "Traceback (most recent call last):\n",
            "  File \"/usr/lib/python3.10/threading.py\", line 1016, in _bootstrap_inner\n",
            "Exception in thread Thread-29 (chama_url):\n",
            "Traceback (most recent call last):\n",
            "  File \"/usr/lib/python3.10/threading.py\", line 1016, in _bootstrap_inner\n",
            "    self.run()\n",
            "  File \"/usr/lib/python3.10/threading.py\", line 953, in run\n",
            "    self._target(*self._args, **self._kwargs)\n",
            "  File \"<ipython-input-26-3e2a0b5373cd>\", line 10, in chama_url\n",
            "    Exception in thread Thread-30 (chama_url):\n",
            "Traceback (most recent call last):\n",
            "  File \"/usr/lib/python3.10/threading.py\", line 1016, in _bootstrap_inner\n",
            "AttributeErrorself.run(): module 'urllib' has no attribute 'Request'. Did you mean: 'request'?\n",
            "\n",
            "  File \"/usr/lib/python3.10/threading.py\", line 953, in run\n",
            "    self.run()\n",
            "  File \"/usr/lib/python3.10/threading.py\", line 953, in run\n",
            "    self._target(*self._args, **self._kwargs)\n",
            "  File \"<ipython-input-26-3e2a0b5373cd>\", line 10, in chama_url\n",
            "AttributeError: module 'urllib' has no attribute 'Request'. Did you mean: 'request'?\n",
            "    self._target(*self._args, **self._kwargs)\n",
            "  File \"<ipython-input-26-3e2a0b5373cd>\", line 10, in chama_url\n",
            "AttributeError: module 'urllib' has no attribute 'Request'. Did you mean: 'request'?\n"
          ]
        },
        {
          "output_type": "stream",
          "name": "stdout",
          "text": [
            "Elapsed Time: 0.12014937400817871\n"
          ]
        }
      ]
    },
    {
      "cell_type": "code",
      "source": [],
      "metadata": {
        "id": "oyH32lBtubTU"
      },
      "execution_count": null,
      "outputs": []
    }
  ]
}